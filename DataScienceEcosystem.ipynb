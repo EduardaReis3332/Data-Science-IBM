{
  "nbformat": 4,
  "nbformat_minor": 0,
  "metadata": {
    "colab": {
      "provenance": [],
      "authorship_tag": "ABX9TyN2kAA3XO0RrIR9xD4Njj1N",
      "include_colab_link": true
    },
    "kernelspec": {
      "name": "python3",
      "display_name": "Python 3"
    },
    "language_info": {
      "name": "python"
    }
  },
  "cells": [
    {
      "cell_type": "markdown",
      "metadata": {
        "id": "view-in-github",
        "colab_type": "text"
      },
      "source": [
        "<a href=\"https://colab.research.google.com/github/EduardaReis3332/Data-Science-IBM/blob/main/DataScienceEcosystem.ipynb\" target=\"_parent\"><img src=\"https://colab.research.google.com/assets/colab-badge.svg\" alt=\"Open In Colab\"/></a>"
      ]
    },
    {
      "cell_type": "markdown",
      "source": [
        "# **Data Science Tools and Ecosystem**"
      ],
      "metadata": {
        "id": "HxRsK5B-4F2s"
      }
    },
    {
      "cell_type": "markdown",
      "source": [
        "In this notebook, Data Science Tools and Ecosystem are summarized."
      ],
      "metadata": {
        "id": "nqYcspXL4c0c"
      }
    },
    {
      "cell_type": "markdown",
      "source": [
        "**Objectives:**\n",
        "\n",
        "* List popular languagens for Data Science\n",
        "* List of some libraries commonly used by Data Scientists\n",
        "* Table of some tools used by Data Scientists\n",
        "* Examples of arithmetic expressions\n",
        "* Code that adds and multiplies numbers\n",
        "* Code that converts Number into Hours\n",
        "\n"
      ],
      "metadata": {
        "id": "DSdMLYLeMrF3"
      }
    },
    {
      "cell_type": "markdown",
      "source": [
        "**Some of the popular languagens that Data Scientists use are:**\n",
        "\n",
        "\n",
        "1. Python\n",
        "2. R Language\n",
        "3. Scala\n",
        "\n",
        "\n",
        "\n"
      ],
      "metadata": {
        "id": "nyZ3Iwog5gn5"
      }
    },
    {
      "cell_type": "markdown",
      "source": [
        "**Some of the commonly used libraries used by Data Scientists include:**\n",
        "\n",
        "1. NumPy\n",
        "2. Pandas\n",
        "3. SciPy"
      ],
      "metadata": {
        "id": "rUikq6Xf7VlO"
      }
    },
    {
      "cell_type": "markdown",
      "source": [
        "| Data Science Tools |\n",
        "|--------------------|\n",
        "|    TensorFlow      |\n",
        "|    PyTorch         |\n",
        "|    Scikit-learn    |\n"
      ],
      "metadata": {
        "id": "cDPlUScG8Uww"
      }
    },
    {
      "cell_type": "markdown",
      "source": [
        "### Below are a few exemples of evaluating arithmetic expressions in Python\n",
        "\n",
        "2 + 3\n",
        "\n",
        "10 - 5\n",
        "\n",
        "4 * 7\n",
        "\n",
        "9 / 3\n",
        "\n",
        "11 % 2\n",
        "\n",
        "2 ** 5"
      ],
      "metadata": {
        "id": "SQpwLluNAMB5"
      }
    },
    {
      "cell_type": "code",
      "execution_count": 8,
      "metadata": {
        "id": "frLt3MDz35mM",
        "colab": {
          "base_uri": "https://localhost:8080/"
        },
        "outputId": "4d6f09de-c876-4a66-d579-8be0d4b73d18"
      },
      "outputs": [
        {
          "output_type": "stream",
          "name": "stdout",
          "text": [
            "Enter the first value: 4\n",
            "Enter the second value: 4\n",
            "The sum of the values is:  8\n",
            "The multiplication of the values is:  16\n"
          ]
        }
      ],
      "source": [
        "# This a simple arithmetic expression to mutiply then add integers\n",
        "\n",
        "n1 = int(input(\"Enter the first value: \"))\n",
        "n2 = int(input(\"Enter the second value: \"))\n",
        "\n",
        "s = n1 + n2\n",
        "m = n1 * n2\n",
        "\n",
        "print(\"The sum of the values is: \", s)\n",
        "print(\"The multiplication of the values is: \", m)"
      ]
    },
    {
      "cell_type": "code",
      "source": [
        "# This will convert 200 minutes em to hours by diving by 60\n",
        "\n",
        "minutes = 200\n",
        "\n",
        "hours = minutes // 60\n",
        "minutes_left = minutes % 60\n",
        "\n",
        "print(f\"200 minutes equals {hours} hours and {minutes_left} minutes.\")"
      ],
      "metadata": {
        "colab": {
          "base_uri": "https://localhost:8080/"
        },
        "id": "AOIwOkZEKgwY",
        "outputId": "9ece4591-03ba-41f9-ca71-717767e57e01"
      },
      "execution_count": 9,
      "outputs": [
        {
          "output_type": "stream",
          "name": "stdout",
          "text": [
            "200 minutes equals 3 hours and 20 minutes.\n"
          ]
        }
      ]
    },
    {
      "cell_type": "markdown",
      "source": [
        "## Author\n",
        "Eduarda Reis"
      ],
      "metadata": {
        "id": "_oX6iSN6POpX"
      }
    }
  ]
}